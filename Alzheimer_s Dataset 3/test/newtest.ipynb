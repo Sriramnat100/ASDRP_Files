{
 "cells": [
  {
   "cell_type": "code",
   "execution_count": 1,
   "metadata": {},
   "outputs": [],
   "source": [
    "import tensorflow as tf\n",
    "from tensorflow.keras.preprocessing.image import ImageDataGenerator\n",
    "\n",
    "import matplotlib.pyplot as plt"
   ]
  },
  {
   "cell_type": "code",
   "execution_count": 2,
   "metadata": {},
   "outputs": [
    {
     "name": "stdout",
     "output_type": "stream",
     "text": [
      "[PhysicalDevice(name='/physical_device:GPU:0', device_type='GPU')]\n",
      "None\n"
     ]
    }
   ],
   "source": [
    "physical_devices = tf.config.experimental.list_physical_devices('GPU')\n",
    "assert len(physical_devices) > 0, \"Not enough GPU hardware devices available\"\n",
    "config = tf.config.experimental.set_memory_growth(physical_devices[0], True)\n",
    "print(physical_devices)\n",
    "print(config)"
   ]
  },
  {
   "cell_type": "code",
   "execution_count": 4,
   "metadata": {},
   "outputs": [],
   "source": [
    "def custom_image_preprocess( image ):\n",
    "\n",
    "    random_lotation_layer = tf.keras.layers.RandomRotation(\n",
    "                            factor=(-0.2, 0.3),\n",
    "                            fill_mode='nearest',\n",
    "                            interpolation='nearest',\n",
    "                            seed=None,\n",
    "                            fill_value=0.0,\n",
    "                        )\n",
    "    \n",
    "    return  random_lotation_layer(image)\n"
   ]
  },
  {
   "cell_type": "code",
   "execution_count": 6,
   "metadata": {},
   "outputs": [],
   "source": [
    "BATCH_SIZE = 16\n",
    "IMG_HEIGHT = 72\n",
    "IMG_WIDTH = 72\n",
    "IMG_CHANNELS= 3\n",
    "\n",
    "train_dir = '/Users/sriramnatarajan/Documents/teamcode/Alzheimer_s Dataset 3/train'\n",
    "test_dir = '/Users/sriramnatarajan/Documents/teamcode/Alzheimer_s Dataset 3/test'\n",
    "\n",
    "seed_1 = tf.random.set_seed(1234)\n",
    "seed_2 = tf.random.set_seed(1235)"
   ]
  },
  {
   "cell_type": "code",
   "execution_count": null,
   "metadata": {},
   "outputs": [],
   "source": []
  }
 ],
 "metadata": {
  "kernelspec": {
   "display_name": "Python 3.9.12 ('base')",
   "language": "python",
   "name": "python3"
  },
  "language_info": {
   "codemirror_mode": {
    "name": "ipython",
    "version": 3
   },
   "file_extension": ".py",
   "mimetype": "text/x-python",
   "name": "python",
   "nbconvert_exporter": "python",
   "pygments_lexer": "ipython3",
   "version": "3.9.12"
  },
  "orig_nbformat": 4,
  "vscode": {
   "interpreter": {
    "hash": "abfb348367aa8a2b4387745eddf048766b9abfdb4960dd7d198edb599eb1ac1c"
   }
  }
 },
 "nbformat": 4,
 "nbformat_minor": 2
}
